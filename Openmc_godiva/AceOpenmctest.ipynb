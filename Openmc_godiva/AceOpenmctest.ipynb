{
 "cells": [
  {
   "cell_type": "code",
   "execution_count": 33,
   "metadata": {},
   "outputs": [
    {
     "name": "stdout",
     "output_type": "stream",
     "text": [
      "['U235-n.ace_0000', 'U235-n.ace_0001', 'U235-n.ace_0002', 'U235-n.ace_0003', 'U235-n.ace_0004', 'U235-n.ace_0005', 'U235-n.ace_0006', 'U235-n.ace_0007', 'U235-n.ace_0008', 'U235-n.ace_0009', 'U235-n.ace_0010', 'U235-n.ace_0011', 'U235-n.ace_0012', 'U235-n.ace_0013', 'U235-n.ace_0014', 'U235-n.ace_0015', 'U235-n.ace_0016', 'U235-n.ace_0017', 'U235-n.ace_0018', 'U235-n.ace_0019', 'U235-n.ace_0020', 'U235-n.ace_0021', 'U235-n.ace_0022', 'U235-n.ace_0023', 'U235-n.ace_0024', 'U235-n.ace_0025', 'U235-n.ace_0026', 'U235-n.ace_0027', 'U235-n.ace_0028', 'U235-n.ace_0029', 'U235-n.ace_0030', 'U235-n.ace_0031', 'U235-n.ace_0032', 'U235-n.ace_0033', 'U235-n.ace_0034', 'U235-n.ace_0035', 'U235-n.ace_0036', 'U235-n.ace_0037', 'U235-n.ace_0038', 'U235-n.ace_0039', 'U235-n.ace_0040', 'U235-n.ace_0041', 'U235-n.ace_0042', 'U235-n.ace_0043', 'U235-n.ace_0045', 'U235-n.ace_0046', 'U235-n.ace_0047', 'U235-n.ace_0048', 'U235-n.ace_0049', 'U235-n.ace_0050', 'U235-n.ace_0051', 'U235-n.ace_0052', 'U235-n.ace_0053', 'U235-n.ace_0054', 'U235-n.ace_0055', 'U235-n.ace_0056', 'U235-n.ace_0057', 'U235-n.ace_0058', 'U235-n.ace_0059', 'U235-n.ace_0060', 'U235-n.ace_0061', 'U235-n.ace_0062', 'U235-n.ace_0063', 'U235-n.ace_0064', 'U235-n.ace_0065', 'U235-n.ace_0066', 'U235-n.ace_0067', 'U235-n.ace_0068', 'U235-n.ace_0069', 'U235-n.ace_0070', 'U235-n.ace_0071', 'U235-n.ace_0072', 'U235-n.ace_0073', 'U235-n.ace_0074', 'U235-n.ace_0075', 'U235-n.ace_0076', 'U235-n.ace_0077', 'U235-n.ace_0078', 'U235-n.ace_0079', 'U235-n.ace_0080', 'U235-n.ace_0081', 'U235-n.ace_0082', 'U235-n.ace_0083', 'U235-n.ace_0084', 'U235-n.ace_0085', 'U235-n.ace_0086', 'U235-n.ace_0087', 'U235-n.ace_0088', 'U235-n.ace_0089', 'U235-n.ace_0090', 'U235-n.ace_0091', 'U235-n.ace_0092', 'U235-n.ace_0093', 'U235-n.ace_0094', 'U235-n.ace_0095', 'U235-n.ace_0096', 'U235-n.ace_0097', 'U235-n.ace_0098', 'U235-n.ace_0099']\n"
     ]
    },
    {
     "name": "stderr",
     "output_type": "stream",
     "text": [
      "/home/rfp/anaconda3/envs/openmc-env/lib/python3.9/site-packages/openmc/data/reaction.py:1006: UserWarning: Negative cross sections found for MT=4 in 92235.00c. Setting to zero.\n",
      "  warn(\"Negative cross sections found for MT={} in {}. Setting \"\n"
     ]
    }
   ],
   "source": [
    "import openmc\n",
    "import math\n",
    "import os\n",
    "import glob\n",
    "os.environ['OPENMC_CROSS_SECTIONS']='/home/rfp/RFP/U235.nuss.10.10.2016'\n",
    "os.system('rm %s%output')\n",
    "os.system('rm s*.h5')\n",
    "import numpy as np\n",
    "import matplotlib.pyplot as plt\n",
    "\n",
    "\n",
    "i=0\n",
    "ace_files=[]\n",
    "library = openmc.data.DataLibrary()\n",
    "\n",
    "os.chdir('/home/rfp/kand/U235.nuss.10.10.2016')\n",
    "for entry in os.scandir('.'):\n",
    "    if entry.is_file() and \".ace\" in entry.name:\n",
    "        ace_files.append(str(entry.name))\n",
    "        #u235 = openmc.data.IncidentNeutron.from_ace(str(entry.name))\n",
    "        #u235.export_to_hdf5(f'U235hdf5_{i}.h5')\n",
    "ace_files=sorted(ace_files)\n",
    "print(ace_files)\n",
    "for ace_file in ace_files:\n",
    "    u235 = openmc.data.IncidentNeutron.from_ace(ace_file)\n",
    "    u235.export_to_hdf5(f'U235hdf5_{i}.h5')\n",
    "    library.register_file(f'U235hdf5_{i}.h5')\n",
    "    i+=1\n",
    "library.export_to_xml()\n"
   ]
  }
 ],
 "metadata": {
  "kernelspec": {
   "display_name": "Python (openmc-env)",
   "language": "python",
   "name": "openmc-env"
  },
  "language_info": {
   "codemirror_mode": {
    "name": "ipython",
    "version": 3
   },
   "file_extension": ".py",
   "mimetype": "text/x-python",
   "name": "python",
   "nbconvert_exporter": "python",
   "pygments_lexer": "ipython3",
   "version": "3.9.4"
  },
  "orig_nbformat": 4
 },
 "nbformat": 4,
 "nbformat_minor": 2
}
